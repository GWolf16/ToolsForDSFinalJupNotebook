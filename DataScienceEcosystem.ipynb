{
 "cells": [
  {
   "cell_type": "markdown",
   "id": "080d61f2-0144-4344-9aae-0b1f8ba22437",
   "metadata": {},
   "source": [
    "# **Data Science Tools and Ecosystem**"
   ]
  },
  {
   "cell_type": "markdown",
   "id": "187362dc-f5ea-4441-a8b1-0d459b2c3579",
   "metadata": {},
   "source": [
    "### In this notebook, Data Science Tools and Ecosystem are sumarized."
   ]
  },
  {
   "cell_type": "markdown",
   "id": "b975ac64-8869-4de3-a7a6-d628376ecff6",
   "metadata": {},
   "source": [
    "**Objectives:**\n",
    "- Popular languages for DS;\n",
    "- Common Libraries for DS;\n",
    "- Basics arithmatic expressions;\n",
    "- Famous Open Sources IDE's;"
   ]
  },
  {
   "cell_type": "markdown",
   "id": "237e735c-d1a2-47ed-8004-5a6ba8a03890",
   "metadata": {},
   "source": [
    "Some of the popular languages that *Data Scientists* use, among others, are:  \n",
    "1. Python;\n",
    "2. R;\n",
    "3. SQL;"
   ]
  },
  {
   "cell_type": "markdown",
   "id": "6627fbb4-98e2-49be-bb3a-2fd97ba832ab",
   "metadata": {},
   "source": [
    "Some of the commmonly used libraries used by *Data Scientists* include:  \n",
    "1. Pandas;\n",
    "2. Numpy;\n",
    "3. Pytorch;\n",
    "4. Scikit-Learn;"
   ]
  },
  {
   "cell_type": "markdown",
   "id": "74eed018-5f54-4ce6-b8c3-61fb6202a77e",
   "metadata": {},
   "source": [
    "|**Data Science Tools**|\n",
    "|-------------|\n",
    "|**Jupter Notebook / Lab**|\n",
    "|**RStudio**|\n",
    "|**Spyder**|\n",
    "|**Anaconda Navigator**|"
   ]
  },
  {
   "cell_type": "markdown",
   "id": "adf887f2-de54-4ef2-9f40-fb63cd5b05c4",
   "metadata": {},
   "source": [
    "### Below are a few examples of evaluating arithmetic expressions in Python.\n",
    "1. 4+5 (Addition)\n",
    "2. 15/5 (Division)\n",
    "3. 4*2 (Multiplication)\n",
    "4. 4-2 (Subtraction)\n"
   ]
  },
  {
   "cell_type": "code",
   "execution_count": 43,
   "id": "ce399833-7a85-49f4-97d0-3b6a20d57553",
   "metadata": {},
   "outputs": [
    {
     "data": {
      "text/plain": [
       "17"
      ]
     },
     "execution_count": 43,
     "metadata": {},
     "output_type": "execute_result"
    }
   ],
   "source": [
    "#This is a simple arithmetic expression to multiply then add integers.\n",
    "(3*4)+5"
   ]
  },
  {
   "cell_type": "code",
   "execution_count": 47,
   "id": "c632b924-5373-499c-8ead-12642b6e751f",
   "metadata": {},
   "outputs": [
    {
     "data": {
      "text/plain": [
       "3.3333333333333335"
      ]
     },
     "execution_count": 47,
     "metadata": {},
     "output_type": "execute_result"
    }
   ],
   "source": [
    "#This will convert 200 minutes to hours by diving by 60\n",
    "200/60"
   ]
  },
  {
   "cell_type": "markdown",
   "id": "f018acc0-2b62-4005-bbf8-b23af6b7ee34",
   "metadata": {},
   "source": [
    "## Author\n",
    "GSA"
   ]
  },
  {
   "cell_type": "code",
   "execution_count": null,
   "id": "e0b6a5f1-f4cc-4303-bade-36e8dfb03346",
   "metadata": {},
   "outputs": [],
   "source": []
  }
 ],
 "metadata": {
  "kernelspec": {
   "display_name": "Python 3 (ipykernel)",
   "language": "python",
   "name": "python3"
  },
  "language_info": {
   "codemirror_mode": {
    "name": "ipython",
    "version": 3
   },
   "file_extension": ".py",
   "mimetype": "text/x-python",
   "name": "python",
   "nbconvert_exporter": "python",
   "pygments_lexer": "ipython3",
   "version": "3.12.7"
  }
 },
 "nbformat": 4,
 "nbformat_minor": 5
}
